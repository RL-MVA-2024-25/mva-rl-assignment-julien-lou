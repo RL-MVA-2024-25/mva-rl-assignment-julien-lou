{
 "cells": [
  {
   "cell_type": "code",
   "execution_count": 1,
   "metadata": {},
   "outputs": [],
   "source": [
    "from train import ProjectAgent\n",
    "from evaluate import evaluate_HIV, evaluate_HIV_population"
   ]
  },
  {
   "cell_type": "code",
   "execution_count": 2,
   "metadata": {},
   "outputs": [],
   "source": [
    "agent = ProjectAgent()\n",
    "from gymnasium.wrappers import TimeLimit\n",
    "from env_hiv import HIVPatient\n",
    "\n",
    "env = TimeLimit(\n",
    "    env=HIVPatient(domain_randomization=False), max_episode_steps=200\n",
    ")  # The time wrapper limits the number of steps in an episode at 200."
   ]
  },
  {
   "cell_type": "code",
   "execution_count": 3,
   "metadata": {},
   "outputs": [],
   "source": [
    "nb_epochs = 5"
   ]
  },
  {
   "cell_type": "code",
   "execution_count": 4,
   "metadata": {},
   "outputs": [],
   "source": [
    "env = TimeLimit(\n",
    "    env=HIVPatient(domain_randomization=True, training=True), max_episode_steps=200\n",
    ")\n",
    "\n",
    "# Generate data\n",
    "for _ in range(30):\n",
    "    agent.complete_one_episode(env, 1., pure_random=True)\n",
    "\n",
    "# Train the agent\n",
    "agent.train_on_data(first_iteration=True)\n",
    "\n",
    "for epoch in range(nb_epochs):\n",
    "    agent.train_on_data(first_iteration=False)\n"
   ]
  },
  {
   "cell_type": "code",
   "execution_count": 5,
   "metadata": {},
   "outputs": [
    {
     "name": "stdout",
     "output_type": "stream",
     "text": [
      "7235019071.185597\n"
     ]
    }
   ],
   "source": [
    "# Evaluate the agent\n",
    "print(evaluate_HIV_population(agent))"
   ]
  },
  {
   "cell_type": "code",
   "execution_count": 6,
   "metadata": {},
   "outputs": [
    {
     "name": "stdout",
     "output_type": "stream",
     "text": [
      "eval :  8561608303.266259\n",
      "eval :  4252983722.354893\n",
      "eval :  7295775051.530367\n",
      "eval :  19323585481.000443\n",
      "eval :  21677531337.175037\n",
      "eval :  24858226677.979164\n",
      "eval :  32016477106.878475\n",
      "eval :  29305227459.05575\n",
      "eval :  30342754549.60257\n",
      "eval :  31505515188.685043\n"
     ]
    }
   ],
   "source": [
    "for _ in range(10):\n",
    "    # Generate data\n",
    "    for _ in range(30):\n",
    "        agent.complete_one_episode(env, epsilon=0.15)\n",
    "\n",
    "    # Train the agent\n",
    "    for epoch in range(nb_epochs):\n",
    "        agent.train_on_data(first_iteration=False)\n",
    "\n",
    "    # Evaluate the agent\n",
    "    print(\"eval : \", evaluate_HIV_population(agent))"
   ]
  },
  {
   "cell_type": "code",
   "execution_count": 12,
   "metadata": {},
   "outputs": [
    {
     "name": "stdout",
     "output_type": "stream",
     "text": [
      "eval :  31524956894.037952\n",
      "eval :  27738473745.16324\n",
      "eval :  33664567740.161316\n",
      "eval :  33763170490.614014\n",
      "eval :  30855670832.312\n",
      "eval :  32491099011.75293\n",
      "eval :  27814065259.716717\n",
      "eval :  32620994119.955826\n",
      "eval :  33077669568.6283\n",
      "eval :  30513744427.472878\n"
     ]
    }
   ],
   "source": [
    "for _ in range(10):\n",
    "    # Generate data\n",
    "    for _ in range(30):\n",
    "        agent.complete_one_episode(env, epsilon=0.1)\n",
    "\n",
    "    # Train the agent\n",
    "    for epoch in range(nb_epochs):\n",
    "        agent.train_on_data(first_iteration=False)\n",
    "\n",
    "    # Evaluate the agent\n",
    "    print(\"eval : \", evaluate_HIV_population(agent))"
   ]
  },
  {
   "cell_type": "code",
   "execution_count": 13,
   "metadata": {},
   "outputs": [
    {
     "name": "stdout",
     "output_type": "stream",
     "text": [
      "eval :  38626440591.52466\n"
     ]
    }
   ],
   "source": [
    "print(\"eval : \", evaluate_HIV(agent))"
   ]
  },
  {
   "cell_type": "code",
   "execution_count": 8,
   "metadata": {},
   "outputs": [],
   "source": [
    "# Save the agent\n",
    "agent.save(\"hist_gradient_boosting_regressor.joblib\")"
   ]
  }
 ],
 "metadata": {
  "kernelspec": {
   "display_name": "RL",
   "language": "python",
   "name": "python3"
  },
  "language_info": {
   "codemirror_mode": {
    "name": "ipython",
    "version": 3
   },
   "file_extension": ".py",
   "mimetype": "text/x-python",
   "name": "python",
   "nbconvert_exporter": "python",
   "pygments_lexer": "ipython3",
   "version": "3.12.7"
  }
 },
 "nbformat": 4,
 "nbformat_minor": 2
}
